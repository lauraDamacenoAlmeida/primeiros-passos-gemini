{
  "nbformat": 4,
  "nbformat_minor": 0,
  "metadata": {
    "colab": {
      "provenance": []
    },
    "kernelspec": {
      "name": "python3",
      "display_name": "Python 3"
    },
    "language_info": {
      "name": "python"
    }
  },
  "cells": [
    {
      "cell_type": "code",
      "execution_count": 1,
      "metadata": {
        "id": "pCjVy-_d12LR"
      },
      "outputs": [],
      "source": [
        "!pip install -q -U google-generativeai"
      ]
    },
    {
      "cell_type": "code",
      "source": [
        "from google.colab import userdata\n"
      ],
      "metadata": {
        "id": "3uhK5QEI3GFd"
      },
      "execution_count": 2,
      "outputs": []
    },
    {
      "cell_type": "code",
      "source": [
        "API_KEY = userdata.get('SECRET_KEY')"
      ],
      "metadata": {
        "id": "woRW1Kwo2N6k"
      },
      "execution_count": 4,
      "outputs": []
    },
    {
      "cell_type": "code",
      "source": [
        "import google.generativeai as genai\n",
        "\n",
        "genai.configure(api_key=API_KEY)"
      ],
      "metadata": {
        "id": "FkZbEDMW3J_2"
      },
      "execution_count": 5,
      "outputs": []
    },
    {
      "cell_type": "code",
      "source": [
        "for m in genai.list_models():\n",
        "  if 'generateContent' in m.supported_generation_methods:\n",
        "    print(m.name)"
      ],
      "metadata": {
        "colab": {
          "base_uri": "https://localhost:8080/",
          "height": 408
        },
        "id": "BJybPKBD3vNK",
        "outputId": "1361bab3-e471-4aec-bcd2-a7d534047827"
      },
      "execution_count": 6,
      "outputs": [
        {
          "output_type": "stream",
          "name": "stdout",
          "text": [
            "models/gemini-1.0-pro-latest\n",
            "models/gemini-1.0-pro\n",
            "models/gemini-pro\n",
            "models/gemini-1.0-pro-001\n",
            "models/gemini-1.0-pro-vision-latest\n",
            "models/gemini-pro-vision\n",
            "models/gemini-1.5-pro-latest\n",
            "models/gemini-1.5-pro-001\n",
            "models/gemini-1.5-pro-002\n",
            "models/gemini-1.5-pro\n",
            "models/gemini-1.5-pro-exp-0801\n",
            "models/gemini-1.5-pro-exp-0827\n",
            "models/gemini-1.5-flash-latest\n",
            "models/gemini-1.5-flash-001\n",
            "models/gemini-1.5-flash-001-tuning\n",
            "models/gemini-1.5-flash\n",
            "models/gemini-1.5-flash-exp-0827\n",
            "models/gemini-1.5-flash-002\n",
            "models/gemini-1.5-flash-8b\n",
            "models/gemini-1.5-flash-8b-001\n",
            "models/gemini-1.5-flash-8b-latest\n",
            "models/gemini-1.5-flash-8b-exp-0827\n",
            "models/gemini-1.5-flash-8b-exp-0924\n"
          ]
        }
      ]
    },
    {
      "cell_type": "code",
      "source": [
        "model = genai.GenerativeModel(\"gemini-1.5-flash\")\n",
        "response = model.generate_content(\"Escreva uma história curta em que harry potter vive no mundo de game of thrones\")\n",
        "print(response.text)"
      ],
      "metadata": {
        "colab": {
          "base_uri": "https://localhost:8080/",
          "height": 360
        },
        "id": "E3nhjEgI3e3r",
        "outputId": "2331b533-7e72-4cb1-f17e-ec69a54412f6"
      },
      "execution_count": 7,
      "outputs": [
        {
          "output_type": "stream",
          "name": "stdout",
          "text": [
            "O vento uivava pela planície, carregando consigo o cheiro de sal e sangue. Harry Potter, o menino que sobreviveu, apertou o casaco mais apertado, sentindo o frio penetrar até os ossos. Ele não estava em Hogwarts, nem em Londres. Ele estava em Westeros, um mundo de guerra, intriga e magia antiga, muito diferente do que ele conhecia.\n",
            "\n",
            "Sua jornada começou com um feitiço errado, uma mistura de magia e magia ancestral que o transportou para um mundo que ele só conhecia através das páginas dos livros. Os livros de George R.R. Martin, que ele lia em segredo, eram agora sua realidade.\n",
            "\n",
            "Ele havia se juntado a um grupo de homens que vagavam pelos Sete Reinos, procurando por qualquer tipo de trabalho para sobreviver. O ouro era escasso, e ele não conseguia usar sua magia de forma aberta. A magia nesse mundo era diferente, mais volátil, mais perigosa. Mas ele não era completamente impotente. Ele tinha a varinha, e sua inteligência, a mesma que o ajudou a sobreviver a Voldemort.\n",
            "\n",
            "Numa tarde fria, enquanto caminhavam pelas montanhas, eles se depararam com um grupo de soldados. Eram da Casa Stark, liderados por um homem alto e severo com olhos azuis gélidos. O homem era Robb Stark, o futuro Rei do Norte, e sua presença exalava poder e perigo.\n",
            "\n",
            "Os soldados estavam sendo atacados por um grupo de selvagens, homens brutos e cruéis que viviam para além da Muralha. Harry, com sua experiência em batalhas contra criaturas escuras, se juntou ao combate. Sua varinha lançava feitiços que brilhavam como raios, afugentando os selvagens e surpreendendo até mesmo os soldados Stark.\n",
            "\n",
            "Robb Stark, impressionado com a habilidade de Harry, o convidou para se juntar à sua causa. Harry hesitava. Ele não queria se envolver nas guerras dos Sete Reinos, mas também não podia ignorar o sofrimento das pessoas. Além do mais, ele precisava de um lugar seguro para se abrigar.\n",
            "\n",
            "\"Eu luto contra o mal, seja qual for a forma que ele assuma\", disse Harry, com a mesma determinação que sempre o guiou.\n",
            "\n",
            "Ele se tornou um conselheiro próximo de Robb Stark, usando sua inteligência e suas habilidades mágicas para ajudar o Rei do Norte em seus planos. Ele sabia que a guerra se aproximava, que o reino se dividia em uma guerra sangrenta pelo Trono de Ferro. E ele sabia que, em breve, o mundo de Westeros precisaria de sua ajuda.\n",
            "\n",
            "Em uma noite fria, enquanto a neve caia em Winterfell, Harry olhou para as estrelas e pensou em seu próprio mundo, em seu próprio destino. Ele sabia que era um estrangeiro nesse mundo, mas também sabia que ele era parte de algo maior. Ele estava destinado a lutar pelo que era certo, para defender os inocentes, e para derrotar o mal, seja qual for a forma que ele assuma.\n",
            "\n",
            "Ele era Harry Potter, o menino que sobreviveu, e ele lutaria até o fim. Não importava se o fim estava em Hogwarts ou em Westeros.\n"
          ]
        }
      ]
    },
    {
      "cell_type": "code",
      "source": [],
      "metadata": {
        "id": "_X0RTh_94dgG"
      },
      "execution_count": null,
      "outputs": []
    }
  ]
}